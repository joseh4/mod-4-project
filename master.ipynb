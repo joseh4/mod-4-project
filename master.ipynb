{
 "cells": [
  {
   "cell_type": "markdown",
   "metadata": {},
   "source": [
    "# Video Game Sales Model\n",
    "### Goals\n",
    "This project aims to answer 2 questions\n",
    "\n",
    "* Rather the population size of a region has a relation to carbon emissions.\n",
    "* Was there a significant effect on carbon emissions based on year and state\n",
    "\n",
    "### Project Members:\n",
    "* [Laurent Mundell](https://github.com/LaurentStar)\n",
    "* [Joe Hart](https://github.com/joseh4)\n",
    "\n",
    "\n",
    "### Table of Contents\n",
    "    -Imports\n",
    "    -Data Sources\n",
    "    -Load Data\n",
    "    -Methods/Globals/Constants\n",
    "    -Explore Data Analysis\n",
    "    -Explore Data Visuals\n",
    "    -Data Prep\n",
    "    -Modeling\n",
    "    -Hypothesis Test I\n",
    "    -Hypothesis Test II\n",
    "\n",
    "* [Video Game Sales with Ratings](https://www.kaggle.com/rush4ratio/video-game-sales-with-ratings)\n",
    "* [Google Trends work around](https://www.quora.com/How-can-I-see-absolute-search-number-volume-on-Google-Trends)\n",
    "https://www.scikit-yb.org/en/latest/api/regressor/residuals.html"
   ]
  },
  {
   "cell_type": "markdown",
   "metadata": {},
   "source": [
    "# Imports"
   ]
  },
  {
   "cell_type": "code",
   "execution_count": 2,
   "metadata": {},
   "outputs": [],
   "source": [
    "import numpy as np\n",
    "import matplotlib.pyplot as plt\n",
    "import os\n",
    "import pandas as pd\n",
    "import seaborn as sns\n",
    "%matplotlib inline\n",
    "\n",
    "from sklearn.preprocessing import MinMaxScaler\n",
    "from sklearn.preprocessing import OneHotEncoder\n",
    "from sklearn.preprocessing import LabelEncoder\n",
    "\n",
    "from sklearn.linear_model import LinearRegression\n",
    "from sklearn.model_selection import train_test_split\n",
    "from sklearn.linear_model import Ridge\n",
    "\n",
    "from yellowbrick.datasets import load_concrete\n",
    "from yellowbrick.regressor import ResidualsPlot\n",
    "\n",
    "import warnings\n",
    "warnings.filterwarnings('ignore')"
   ]
  },
  {
   "cell_type": "markdown",
   "metadata": {},
   "source": [
    "# Load Data"
   ]
  },
  {
   "cell_type": "code",
   "execution_count": 3,
   "metadata": {},
   "outputs": [],
   "source": [
    "file_path  = os.path.join('data', 'Video_Games_Sales_as_at_22_Dec_2016.csv')\n",
    "video_game_df = pd.read_csv(file_path)\n",
    "\n",
    "\n",
    "# Drop all columns we aren't going to use\n",
    "global_df = video_game_df.drop(['NA_Sales',\n",
    "                            'EU_Sales', \n",
    "                            'JP_Sales', \n",
    "                            'Other_Sales', \n",
    "                            'Critic_Score',\n",
    "                            'Critic_Count',\n",
    "                            'User_Score',\n",
    "                            'User_Count'], axis=1)"
   ]
  },
  {
   "cell_type": "markdown",
   "metadata": {},
   "source": [
    "# Methods/Globals/Constants"
   ]
  },
  {
   "cell_type": "code",
   "execution_count": 4,
   "metadata": {},
   "outputs": [],
   "source": [
    "%run -i \"scripts//methods_globals_constants.py\""
   ]
  },
  {
   "cell_type": "markdown",
   "metadata": {},
   "source": [
    "# Exploratory Data Analysis"
   ]
  },
  {
   "cell_type": "code",
   "execution_count": 6,
   "metadata": {},
   "outputs": [
    {
     "data": {
      "text/plain": [
       "'\\n-Basic general statistics about the data.\\n-Rating appears to be missing many values\\n-Developer is also missing a large chuck of data\\n'"
      ]
     },
     "execution_count": 6,
     "metadata": {},
     "output_type": "execute_result"
    }
   ],
   "source": [
    "\"\"\"\n",
    "-Basic general statistics about the data.\n",
    "-Rating appears to be missing many values\n",
    "-Developer is also missing a large chuck of data\n",
    "\"\"\"\n",
    "\n",
    "# display(global_df.head())\n",
    "# display(global_df.info())\n",
    "# display(global_df.describe().T)\n",
    "# print('Shape:', global_df.shape)"
   ]
  },
  {
   "cell_type": "code",
   "execution_count": null,
   "metadata": {},
   "outputs": [],
   "source": [
    "\"\"\"\n",
    "-Checking missing values by year of release.\n",
    "-Total missing values are 6543 observations which ~ 40% of the data\n",
    "\"\"\"\n",
    "print(global_df.shape)\n",
    "print(global_df[global_df.Developer.isna()].Year_of_Release.value_counts().sum())\n",
    "print('missing data percentage', \n",
    "      (global_df[global_df.Developer.isna()].Year_of_Release.value_counts().sum()/global_df.shape[0])*100)\n",
    "global_df[global_df.Developer.isna()].Year_of_Release.value_counts()"
   ]
  },
  {
   "cell_type": "markdown",
   "metadata": {},
   "source": [
    "# Exploratory Data Visualization"
   ]
  },
  {
   "cell_type": "code",
   "execution_count": null,
   "metadata": {},
   "outputs": [],
   "source": [
    "\"\"\"\n",
    "- The boxplot reveal many outlier for each platform however it seems most outlier are positive\n",
    "\"\"\"\n",
    "\n",
    "fig, ax = plt.subplots(nrows=2, ncols=1, figsize=(15, 10))\n",
    "sns.boxplot(x=\"Platform\", y=\"Global_Sales\", data=global_df, ax=ax[0])\n",
    "sns.boxplot(x=\"Platform\", y=\"Global_Sales\", data=global_df[global_df[\"Global_Sales\"]<=5], ax=ax[1]);"
   ]
  },
  {
   "cell_type": "markdown",
   "metadata": {},
   "source": [
    "# Data Prep"
   ]
  },
  {
   "cell_type": "code",
   "execution_count": 7,
   "metadata": {},
   "outputs": [],
   "source": [
    "\"\"\"\n",
    "-Unable to identify developers and rating. classifying nan values as unknown for now\n",
    "\"\"\"\n",
    "global_df['Developer'].fillna('Unknown', inplace=True)\n",
    "global_df['Rating'].fillna('Unknown', inplace=True)\n",
    "\n",
    "\n",
    "\"\"\"\n",
    "-Only two values missing from genre so we removed the rows\n",
    "-Year_of-release has ~ 300 rows missing but this only 1.6% of the remaining observations so we removed them too. \n",
    "-The publisher had ~ 30 rows missing after removing the nan row. this is less than 1% of the remaining\n",
    " data so it was nans were removed\n",
    "\"\"\"\n",
    "global_df.dropna(subset=['Genre', 'Year_of_Release', 'Publisher'], inplace=True)\n",
    "\n",
    "\n",
    "\"\"\"\n",
    "- We made a new column of the len in characters for each game name to check if name len had an effect on global sales\n",
    "- We also counted the number of words in each name for the same purpose\n",
    "\"\"\"\n",
    "global_df['Name_Character_Length'] = global_df['Name'].map(lambda name : len(name))\n",
    "global_df['Name_Word_Count'] = global_df['Name'].map(lambda name : len(name.split()))\n",
    "\n",
    "\n",
    "\"\"\"\n",
    "- A decision was made to model after plaforms released 2007 and onward and to exclude handhelds.\n",
    "- DC (DreamCast) is a special exception \n",
    "\"\"\"\n",
    "_ = ((global_df['Year_of_Release'] > 2007) \n",
    "     & (global_df['Platform'].isin(['DC', 'DS', 'GB', 'PSP', '3DS', 'PSV']) == False))\n",
    "global_df = global_df[_]\n",
    "\n",
    "\n",
    "\"\"\"\n",
    "One hot encoding three catagorical columns because they don't have too many unique values\n",
    "\"\"\"\n",
    "_ = pd.get_dummies(global_df['Rating'], drop_first=True)\n",
    "global_df = pd.concat([global_df, _], axis=1)\n",
    "\n",
    "_ = pd.get_dummies(global_df['Genre'], drop_first=True)\n",
    "global_df = pd.concat([global_df, _], axis=1)\n",
    "\n",
    "_ = pd.get_dummies(global_df['Platform'], drop_first=True)\n",
    "global_df = pd.concat([global_df, _], axis=1)\n",
    "\n",
    "\n",
    "\"\"\"\n",
    "Drop all columns not needed to build models\n",
    "\"\"\"\n",
    "global_df.drop(columns=['Developer', 'Name', 'Platform', 'Rating'], inplace=True)"
   ]
  },
  {
   "cell_type": "markdown",
   "metadata": {},
   "source": [
    "# Modeling"
   ]
  },
  {
   "cell_type": "code",
   "execution_count": 13,
   "metadata": {},
   "outputs": [],
   "source": [
    "X = global_df\n",
    "\n",
    "y = global_df['Global_Sales']\n",
    "\n",
    "log_y = np.log(y)"
   ]
  },
  {
   "cell_type": "code",
   "execution_count": 14,
   "metadata": {},
   "outputs": [],
   "source": [
    "#Breaking the law for the presentation, Data leak here.... please fix later\n",
    "\n",
    "X['Publisher_Avg'] = X['Publisher']\n",
    "X['Genre_Avg'] = X['Genre']\n",
    "\n",
    "for publisher in X['Publisher'].unique():\n",
    "    mean = X[X['Publisher_Avg'] == publisher]['Global_Sales'].mean()\n",
    "    X['Publisher_Avg'] = X['Publisher_Avg'].replace(to_replace = publisher, value=mean)\n",
    "    \n",
    "for genre in X['Genre'].unique():\n",
    "    mean = X[X['Genre_Avg'] == genre]['Global_Sales'].mean()\n",
    "    X['Genre_Avg'] = X['Genre_Avg'].replace(to_replace = genre, value=mean) \n",
    "    \n",
    "X.drop(columns=['Publisher','Global_Sales', 'Genre'], inplace=True)"
   ]
  },
  {
   "cell_type": "code",
   "execution_count": 15,
   "metadata": {},
   "outputs": [],
   "source": [
    " X_train, X_test, y_train, y_test = train_test_split(X, log_y, test_size= 0.2)"
   ]
  },
  {
   "cell_type": "code",
   "execution_count": 18,
   "metadata": {},
   "outputs": [
    {
     "data": {
      "text/plain": [
       "((1005,), (4016,), (1005, 29), (4016, 29))"
      ]
     },
     "execution_count": 18,
     "metadata": {},
     "output_type": "execute_result"
    }
   ],
   "source": [
    "y_test.shape, y_train.shape, X_test.shape, X_train.shape"
   ]
  },
  {
   "cell_type": "code",
   "execution_count": null,
   "metadata": {},
   "outputs": [],
   "source": [
    "# \"\"\"\n",
    "# - Make a copy of publisher & Genre column and iteratively alter it until you contain mean avg values by publisher and genre.\n",
    "# - After completion remove the Publisher(Not model ready), Global_Sales(Target) columns, Genre(Not model ready)\n",
    "# \"\"\"\n",
    "\n",
    "# X_train['Publisher_Avg'] = X_train['Publisher']\n",
    "# X_train['Genre_Avg'] = X_train['Genre']\n",
    "\n",
    "# for publisher in X_train['Publisher'].unique():\n",
    "#     mean = X_train[X_train['Publisher_Avg'] == publisher]['Global_Sales'].mean()\n",
    "#     X_train['Publisher_Avg'] = X_train['Publisher_Avg'].replace(to_replace = publisher, value=mean)\n",
    "    \n",
    "# for genre in X_train['Genre'].unique():\n",
    "#     mean = X_train[X_train['Genre_Avg'] == genre]['Global_Sales'].mean()\n",
    "#     X_train['Genre_Avg'] = X_train['Genre_Avg'].replace(to_replace = genre, value=mean)    \n",
    "    \n",
    "# X_train.drop(columns=['Publisher','Global_Sales', 'Genre'], inplace=True)\n",
    "# X_test.drop(columns=['Publisher','Global_Sales', 'Genre'], inplace=True)"
   ]
  },
  {
   "cell_type": "code",
   "execution_count": null,
   "metadata": {},
   "outputs": [],
   "source": [
    "lr = LinearRegression()"
   ]
  },
  {
   "cell_type": "code",
   "execution_count": null,
   "metadata": {},
   "outputs": [],
   "source": [
    "lr.fit(X_train, y_train)"
   ]
  },
  {
   "cell_type": "code",
   "execution_count": null,
   "metadata": {},
   "outputs": [],
   "source": [
    "y_pred = lr.predict(X_train)\n",
    "res = y_train - y_pred "
   ]
  },
  {
   "cell_type": "code",
   "execution_count": null,
   "metadata": {},
   "outputs": [],
   "source": [
    "plt.scatter(y_train, y_pred);"
   ]
  },
  {
   "cell_type": "code",
   "execution_count": null,
   "metadata": {},
   "outputs": [],
   "source": [
    "plt.scatter(y_pred, res);"
   ]
  },
  {
   "cell_type": "markdown",
   "metadata": {},
   "source": [
    "# Interactions"
   ]
  },
  {
   "cell_type": "code",
   "execution_count": null,
   "metadata": {},
   "outputs": [],
   "source": [
    "list(enumerate(X_train.columns))"
   ]
  },
  {
   "cell_type": "code",
   "execution_count": 17,
   "metadata": {},
   "outputs": [],
   "source": [
    "target = 'Adventure'\n",
    "interact = X_train.columns[19:27]\n",
    "adventure_IN_platoform_df = build_interaction(X_train.copy(), target, interact)"
   ]
  },
  {
   "cell_type": "code",
   "execution_count": 19,
   "metadata": {},
   "outputs": [],
   "source": [
    "action_platform_inter = LinearRegression()\n",
    "action_platform_inter.fit(adventure_IN_platoform_df, y_train)\n",
    "y_pred = action_platform_inter.predict(adventure_IN_platoform_df)\n",
    "res = y_train - y_pred "
   ]
  },
  {
   "cell_type": "code",
   "execution_count": 20,
   "metadata": {},
   "outputs": [
    {
     "data": {
      "text/plain": [
       "<matplotlib.collections.PathCollection at 0x18ff537dda0>"
      ]
     },
     "execution_count": 20,
     "metadata": {},
     "output_type": "execute_result"
    },
    {
     "data": {
      "image/png": "[encoded data removed]",
      "text/plain": [
       "<Figure size 432x288 with 1 Axes>"
      ]
     },
     "metadata": {
      "needs_background": "light"
     },
     "output_type": "display_data"
    }
   ],
   "source": [
    "plt.scatter(y_train, y_pred)"
   ]
  },
  {
   "cell_type": "code",
   "execution_count": 21,
   "metadata": {},
   "outputs": [
    {
     "data": {
      "text/plain": [
       "<matplotlib.collections.PathCollection at 0x18ff54ad0f0>"
      ]
     },
     "execution_count": 21,
     "metadata": {},
     "output_type": "execute_result"
    },
    {
     "data": {
      "image/png": "[encoded data removed]",
      "text/plain": [
       "<Figure size 432x288 with 1 Axes>"
      ]
     },
     "metadata": {
      "needs_background": "light"
     },
     "output_type": "display_data"
    }
   ],
   "source": [
    "plt.scatter(y_pred, res)"
   ]
  },
  {
   "cell_type": "code",
   "execution_count": 22,
   "metadata": {},
   "outputs": [
    {
     "data": {
      "text/plain": [
       "((1005,), (4016,), (1005, 29), (4016, 29))"
      ]
     },
     "execution_count": 22,
     "metadata": {},
     "output_type": "execute_result"
    }
   ],
   "source": [
    "y_test.shape, y_train.shape, X_test.shape, X_train.shape"
   ]
  },
  {
   "cell_type": "code",
   "execution_count": 25,
   "metadata": {},
   "outputs": [
    {
     "data": {
      "image/png": "[encoded data removed]",
      "text/plain": [
       "<Figure size 432x288 with 2 Axes>"
      ]
     },
     "metadata": {
      "needs_background": "light"
     },
     "output_type": "display_data"
    },
    {
     "data": {
      "text/plain": [
       "<matplotlib.axes._subplots.AxesSubplot at 0x18ff6c50748>"
      ]
     },
     "execution_count": 25,
     "metadata": {},
     "output_type": "execute_result"
    }
   ],
   "source": [
    "model = Ridge()\n",
    "visualizer = ResidualsPlot(model)\n",
    "\n",
    "visualizer.fit(X_train, y_train)  # Fit the training data to the visualizer\n",
    "visualizer.score(X_test, y_test)  # Evaluate the model on the test data\n",
    "visualizer.show()                 # Finalize and render the figure"
   ]
  },
  {
   "cell_type": "markdown",
   "metadata": {},
   "source": [
    "# Cleaned Data Exploratory Visual"
   ]
  },
  {
   "cell_type": "code",
   "execution_count": null,
   "metadata": {},
   "outputs": [],
   "source": [
    "\"\"\"\n",
    "By the year 2000 there was no signicant online present for metacritic. Below games released before 1995 were removed.\n",
    "\"\"\"\n",
    "print('Dataframe with filled nan values')\n",
    "sns.pairplot(video_game_null_fill_df);"
   ]
  },
  {
   "cell_type": "code",
   "execution_count": null,
   "metadata": {},
   "outputs": [],
   "source": [
    "\"\"\"\n",
    "Critic score and count are strongly correlated suggesting the number of critque averages out the game's score\n",
    "\"\"\"\n",
    "fig, ax = plt.subplots(figsize=(15,8))  \n",
    "sns.heatmap(video_game_null_fill_df.corr(), annot=True, ax=ax);"
   ]
  },
  {
   "cell_type": "code",
   "execution_count": null,
   "metadata": {},
   "outputs": [],
   "source": [
    "\"\"\"\n",
    "The User scores and critic score are on different scales being 0-10 and 0-100 respectfully. \n",
    "Dispite this the distrubtions do look normal so critics and users may review the same way\n",
    "\"\"\"\n",
    "fig, ax = plt.subplots(figsize=(15,8))  \n",
    "\n",
    "ax.hist(video_game_null_fill_df['Critic_Score'])\n",
    "ax.hist(video_game_null_fill_df['User_Score']);"
   ]
  },
  {
   "cell_type": "code",
   "execution_count": null,
   "metadata": {},
   "outputs": [],
   "source": [
    "\"\"\"\n",
    "The critics total of reviews per game is so small compared to count of user reviews,\n",
    "the critics histogram doesn't appear at all. One thing about them is their skewness to the left. \n",
    "Both have the same form of skewness where for a particular game there are way more than normal\n",
    "\"\"\"\n",
    "\n",
    "fig, ax = plt.subplots(nrows=2, ncols=1, figsize=(15,8))  \n",
    "\n",
    "ax[0].hist(video_game_null_fill_df['Critic_Count'])\n",
    "ax[0].hist(video_game_null_fill_df['User_Count'])\n",
    "\n",
    "ax[1].hist(video_game_null_fill_df['Critic_Count']);;"
   ]
  },
  {
   "cell_type": "code",
   "execution_count": null,
   "metadata": {},
   "outputs": [],
   "source": [
    "\"\"\"\n",
    "Oh no..... What \n",
    "\"\"\"\n",
    "\n",
    "fig, ax = plt.subplots(figsize=(15,8))  \n",
    "\n",
    "ax.bar(x = video_game_null_fill_df['Year_of_Release'], height = video_game_null_fill_df['Critic_Count']);"
   ]
  },
  {
   "cell_type": "code",
   "execution_count": null,
   "metadata": {},
   "outputs": [],
   "source": [
    "video_game_null_fill_df[video_game_null_fill_df['Year_of_Release'] == 2020]"
   ]
  },
  {
   "cell_type": "markdown",
   "metadata": {},
   "source": [
    "# Encoding"
   ]
  },
  {
   "cell_type": "code",
   "execution_count": null,
   "metadata": {},
   "outputs": [],
   "source": [
    "_ = pd.get_dummies(video_game_null_fill_df[['Platform']], drop_first=True)\n",
    "list(pd.concat([video_game_null_fill_df, _], axis=1, sort=False).columns)[12:].sort()"
   ]
  },
  {
   "cell_type": "code",
   "execution_count": null,
   "metadata": {},
   "outputs": [],
   "source": [
    "print(video_game_null_fill_df['Platform'].unique())\n",
    "print(video_game_null_fill_df['Platform'].shape)"
   ]
  },
  {
   "cell_type": "markdown",
   "metadata": {},
   "source": [
    "# Scaling/Normalizing Data"
   ]
  },
  {
   "cell_type": "code",
   "execution_count": null,
   "metadata": {},
   "outputs": [],
   "source": [
    "video_game_df[feat].map(lambda x: np.log(x))"
   ]
  },
  {
   "cell_type": "code",
   "execution_count": null,
   "metadata": {},
   "outputs": [],
   "source": [
    "# Min-Max scaling User score and Critic score for interpretation\n",
    "\n",
    "_ = video_game_null_fill_df['Critic_Score']\n",
    "video_game_null_fill_df['Critic_Score'] = (_-min(_))/(max(_)-min(_))\n",
    "video_game_null_fill_df['User_Score'] = (logcrim-min(logcrim))/(max(logcrim)-min(logcrim))\n",
    "boston_features['DIS'] = (logdis-min(logdis))/(max(logdis)-min(logdis))\n",
    "\n",
    "\n",
    "\n",
    "data = [[-1, 2], [-0.5, 6], [0, 10], [1, 18]]\n",
    ">>> scaler = MinMaxScaler()\n",
    ">>> print(scaler.fit(data))\n",
    "MinMaxScaler()\n",
    ">>> print(scaler.data_max_)\n",
    "[ 1. 18.]\n",
    ">>> print(scaler.transform(data))\n",
    "[[0.   0.  ]\n",
    " [0.25 0.25]\n",
    " [0.5  0.5 ]\n",
    " [1.   1.  ]]\n",
    ">>> print(scaler.transform([[2, 2]]))\n",
    "[[1.5 0. ]]"
   ]
  },
  {
   "cell_type": "markdown",
   "metadata": {},
   "source": [
    "# [Video Game]\n",
    "#### Data World \n",
    "    *https://data.world/craigkelly/steam-game-data\n",
    "    [Shareholder] They are a publisher, they want buy a new team but want to make sure they make good choice\n",
    "        [Question1] Can we build a predict/regression model to predict a potential interval for steamspyowners? \n",
    "        [Question2] Metacritic scores are from 0 -100. Could we build a classifer model?\n",
    "#### Kaggle\n",
    "\t*https://www.kaggle.com/gregorut/videogamesales\n",
    "\t*https://www.kaggle.com/rush4ratio/video-game-sales-with-ratings\n",
    "\t*https://www.kaggle.com/kendallgillies/video-game-sales-and-ratings\n",
    "     [Shareholder] They are a publisher is looking for recommendations for what types of game to make\n",
    "         [Question1] Can we pridict Global_Sales\n",
    "\n",
    "\n",
    "# [Animals]\n",
    "##### Kaggle \n",
    "    *https://www.kaggle.com/aaronschlegel/austin-animal-center-shelter-outcomes-and\n",
    "    [Shareholder] ?????\n",
    "    \n",
    "    [Not Enough]https://www.kaggle.com/mbogernetto/brazilian-amazon-rainforest-degradation\n",
    "    [Not independent]https://www.kaggle.com/se18m502/bee-hive-metrics#weight_2017.csv\n",
    "    [Not independent]https://www.kaggle.com/hocop1/cat-and-dog-breeds-parameters\n",
    "    [Not independent]https://www.kaggle.com/jessicali9530/honey-production\n",
    "    \n",
    "# [Medical]\n",
    "##### Kaggle\n",
    "    [Not independent]https://www.kaggle.com/de5d5fe61fcaa6ad7a66/coronavirus-dataset-update-0206\n",
    "\n",
    "# [Vehicle]\n",
    "##### Data World\n",
    "    https://data.world/nhtsa/nhtsas-odi-recalls/workspace/project-summary?agentid=nhtsa&datasetid=nhtsas-odi-recalls\n",
    "\n",
    "##### Kaggle\n",
    "    https://www.kaggle.com/austinreese/craigslist-carstrucks-data\n",
    "    [ShareHolder] A small start up want to build an app to help people buy better cars off craiglist. \n",
    "        [Question1] Can we classify the cars by title_status?\n",
    "        [Question2] Can we predict the odometer for the car?\n",
    "        [Question3] Can we classify condition\n",
    "        \n",
    "    *https://www.kaggle.com/mirosval/personal-cars-classifieds\n",
    "    [ShareHolder] Find cars for people app\n",
    "        [Question]The user get an estimate of price_eur based on car details\n",
    "        \n",
    "# [Misc]\n",
    "##### Buzzfeed\n",
    "    *https://github.com/BuzzFeedNews/2014-06-firework-injuries\n",
    "    [Shareholder] We're an evil insurance company, which collection of people should we raise the price? \n",
    "    [Question]\n",
    "    \n",
    "    *https://www.kaggle.com/rusiano/snooker-data-19822020#players_r.csv"
   ]
  },
  {
   "cell_type": "code",
   "execution_count": null,
   "metadata": {},
   "outputs": [],
   "source": [
    "# #Fill all nan value with the average by genre\n",
    "# video_game_null_fill_df = video_game_null_fill_df.apply(lambda x : fillna_average_by_target_column(x, GENRE_CRITIC_SCORE_AVG, 3, 10),  axis=1)\n",
    "\n",
    "\n",
    "# video_game_null_fill_df = video_game_null_fill_df.apply(lambda x : fillna_average_by_target_column(x, GENRE_CRITIC_COUNT_AVG, 3, 11),  axis=1)\n",
    "# video_game_null_fill_df = video_game_null_fill_df.apply(lambda x : fillna_average_by_target_column(x, GENRE_USER_SCORE_AVG, 3, 12),  axis=1)\n",
    "# video_game_null_fill_df = video_game_null_fill_df.apply(lambda x : fillna_average_by_target_column(x, GENRE_CRITIC_COUNT_AVG, 3, 13),  axis=1)\n",
    "\n",
    "# #Drop all related sales columns\n",
    "# video_game_null_fill_df.drop(columns=['EU_Sales', 'JP_Sales', 'Other_Sales', 'Global_Sales'], inplace=True)\n",
    "\n",
    "# #Drop all release year Nan  rows Appoximity ~ 300 rows\n",
    "# #video_game_null_fill_df.dropna(subset=['Year_of_Release', 'Genre'], inplace=True)\n",
    "\n",
    "# # Make release a simple int type to represent it more accuracly \n",
    "# video_game_null_fill_df['Year_of_Release'] = video_game_null_fill_df['Year_of_Release'].astype(int)\n",
    "\n",
    "# # Convert user score to float to represent accurately\n",
    "# video_game_null_fill_df['User_Score'] = video_game_null_fill_df['User_Score'].astype(float)\n",
    "\n",
    "# # Drop all observation below the year 1990\n",
    "# video_game_null_fill_df = video_game_null_fill_df[video_game_null_fill_df['Year_of_Release'] > 1995]"
   ]
  }
 ],
 "metadata": {
  "kernelspec": {
   "display_name": "Python 3",
   "language": "python",
   "name": "python3"
  },
  "language_info": {
   "codemirror_mode": {
    "name": "ipython",
    "version": 3
   },
   "file_extension": ".py",
   "mimetype": "text/x-python",
   "name": "python",
   "nbconvert_exporter": "python",
   "pygments_lexer": "ipython3",
   "version": "3.7.3"
  }
 },
 "nbformat": 4,
 "nbformat_minor": 2
}

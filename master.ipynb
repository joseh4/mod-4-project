{
 "cells": [
  {
   "cell_type": "markdown",
   "metadata": {},
   "source": [
    "# [Video Game]\n",
    "#### Data World \n",
    "    *https://data.world/craigkelly/steam-game-data\n",
    "    [Shareholder] They are a publisher, they want buy a new team but want to make sure they make good choice\n",
    "        [Question1] Can we build a predict/regression model to predict a potential interval for steamspyowners? \n",
    "        [Question2] Metacritic scores are from 0 -100. Could we build a classifer model?\n",
    "#### Kaggle\n",
    "\t*https://www.kaggle.com/gregorut/videogamesales\n",
    "\t*https://www.kaggle.com/rush4ratio/video-game-sales-with-ratings\n",
    "\t*https://www.kaggle.com/kendallgillies/video-game-sales-and-ratings\n",
    "     [Shareholder] They are a publisher is looking for recommendations for what types of game to make\n",
    "         [Question1] Can we pridict Global_Sales\n",
    "\n",
    "\n",
    "# [Animals]\n",
    "##### Kaggle \n",
    "    *https://www.kaggle.com/aaronschlegel/austin-animal-center-shelter-outcomes-and\n",
    "    [Shareholder] ?????\n",
    "    \n",
    "    [Not Enough]https://www.kaggle.com/mbogernetto/brazilian-amazon-rainforest-degradation\n",
    "    [Not independent]https://www.kaggle.com/se18m502/bee-hive-metrics#weight_2017.csv\n",
    "    [Not independent]https://www.kaggle.com/hocop1/cat-and-dog-breeds-parameters\n",
    "    [Not independent]https://www.kaggle.com/jessicali9530/honey-production\n",
    "    \n",
    "# [Medical]\n",
    "##### Kaggle\n",
    "    [Not independent]https://www.kaggle.com/de5d5fe61fcaa6ad7a66/coronavirus-dataset-update-0206\n",
    "\n",
    "# [Vehicle]\n",
    "##### Data World\n",
    "    https://data.world/nhtsa/nhtsas-odi-recalls/workspace/project-summary?agentid=nhtsa&datasetid=nhtsas-odi-recalls\n",
    "\n",
    "##### Kaggle\n",
    "    https://www.kaggle.com/austinreese/craigslist-carstrucks-data\n",
    "    [ShareHolder] A small start up want to build an app to help people buy better cars off craiglist. \n",
    "        [Question1] Can we classify the cars by title_status?\n",
    "        [Question2] Can we predict the odometer for the car?\n",
    "        [Question3] Can we classify condition\n",
    "        \n",
    "    *https://www.kaggle.com/mirosval/personal-cars-classifieds\n",
    "    [ShareHolder] Find cars for people app\n",
    "        [Question]The user get an estimate of price_eur based on car details\n",
    "        \n",
    "# [Misc]\n",
    "##### Buzzfeed\n",
    "    *https://github.com/BuzzFeedNews/2014-06-firework-injuries\n",
    "    [Shareholder] We're an evil insurance company, which collection of people should we raise the price? \n",
    "    [Question]\n",
    "    \n",
    "    *https://www.kaggle.com/rusiano/snooker-data-19822020#players_r.csv"
   ]
  },
  {
   "cell_type": "code",
   "execution_count": null,
   "metadata": {},
   "outputs": [],
   "source": []
  },
  {
   "cell_type": "code",
   "execution_count": null,
   "metadata": {},
   "outputs": [],
   "source": []
  }
 ],
 "metadata": {
  "kernelspec": {
   "display_name": "Python 3",
   "language": "python",
   "name": "python3"
  },
  "language_info": {
   "codemirror_mode": {
    "name": "ipython",
    "version": 3
   },
   "file_extension": ".py",
   "mimetype": "text/x-python",
   "name": "python",
   "nbconvert_exporter": "python",
   "pygments_lexer": "ipython3",
   "version": "3.7.3"
  }
 },
 "nbformat": 4,
 "nbformat_minor": 2
}

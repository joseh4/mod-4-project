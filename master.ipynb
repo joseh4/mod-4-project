{
 "cells": [
  {
   "cell_type": "markdown",
   "metadata": {},
   "source": [
    "# Video Game Sales Model\n",
    "### Goals\n",
    "This project aims to answer 2 questions\n",
    "\n",
    "* Rather the population size of a region has a relation to carbon emissions.\n",
    "* Was there a significant effect on carbon emissions based on year and state\n",
    "\n",
    "### Project Members:\n",
    "* [Laurent Mundell](https://github.com/LaurentStar)\n",
    "* [Joe Hart](https://github.com/joseh4)\n",
    "\n",
    "\n",
    "### Table of Contents\n",
    "    -Imports\n",
    "    -Data Sources\n",
    "    -Load Data\n",
    "    -Methods/Globals/Constants\n",
    "    -Explore Data Analysis\n",
    "    -Explore Data Visuals\n",
    "    -Data Prep\n",
    "    -Hypothesis Test I\n",
    "    -Hypothesis Test II\n",
    "\n",
    "\n",
    "* [Video Game Sales with Ratings](https://www.kaggle.com/rush4ratio/video-game-sales-with-ratings)\n",
    "* [Google Trends work around](https://www.quora.com/How-can-I-see-absolute-search-number-volume-on-Google-Trends)"
   ]
  },
  {
   "cell_type": "markdown",
   "metadata": {},
   "source": [
    "# Imports"
   ]
  },
  {
   "cell_type": "code",
   "execution_count": 86,
   "metadata": {},
   "outputs": [],
   "source": [
    "import numpy as np\n",
    "import matplotlib.pyplot as plt\n",
    "import os\n",
    "import pandas as pd\n",
    "import seaborn as sns\n",
    "%matplotlib inline\n",
    "\n",
    "from sklearn.preprocessing import MinMaxScaler\n",
    "from sklearn.preprocessing import OneHotEncoder\n",
    "from sklearn.preprocessing import LabelEncoder"
   ]
  },
  {
   "cell_type": "markdown",
   "metadata": {},
   "source": [
    "# Load Data"
   ]
  },
  {
   "cell_type": "code",
   "execution_count": 156,
   "metadata": {},
   "outputs": [],
   "source": [
    "file_path  = os.path.join('data', 'Video_Games_Sales_as_at_22_Dec_2016.csv')\n",
    "video_game_df = pd.read_csv(file_path)"
   ]
  },
  {
   "cell_type": "markdown",
   "metadata": {},
   "source": [
    "# Methods/Globals/Constants"
   ]
  },
  {
   "cell_type": "code",
   "execution_count": 157,
   "metadata": {},
   "outputs": [
    {
     "data": {
      "text/plain": [
       "<Figure size 432x288 with 0 Axes>"
      ]
     },
     "metadata": {},
     "output_type": "display_data"
    }
   ],
   "source": [
    "def fillna_average_by_target_column(row, avg_dict, target_col, effected_col):\n",
    "    \"\"\"\n",
    "    When given a row of a dataframe, this method will use the target column to fill nan values with \n",
    "    the average associated with the catagorical values in the effected column. \n",
    "    \n",
    "    Parameters\n",
    "    ----------\n",
    "    row :  Dataframe row.\n",
    "    avg_dict : A dictionary of the average of the catagorical values in the target column of the dataframe\n",
    "    target_col : index of where the target column is in the dataframe\n",
    "    effected_col :  index of where the effected column is in the dataframe\n",
    "    \n",
    "    Returns\n",
    "    -------\n",
    "    a dataframe row with effect column value changed if it is null\n",
    "    \"\"\"\n",
    "    try:\n",
    "        if np.isnan(row[effected_col]):      \n",
    "            row[effected_col] = np.round(avg_dict[row[target_col]], 2)\n",
    "    except:\n",
    "        pass #row[effected_col] = \"???\"\n",
    "        \n",
    "    return row\n",
    "\n",
    "\n",
    "\n",
    "GENRE_CRITIC_SCORE_AVG = {'Sports' : video_game_df[video_game_df['Genre'] == 'Sports']['Critic_Score'].mean(),\n",
    "              'Platform': video_game_df[video_game_df['Genre'] == 'Platform']['Critic_Score'].mean(),\n",
    "              'Racing': video_game_df[video_game_df['Genre'] == 'Racing']['Critic_Score'].mean(),\n",
    "              'Role-Playing': video_game_df[video_game_df['Genre'] == 'Role-Playing']['Critic_Score'].mean(),\n",
    "              'Puzzle': video_game_df[video_game_df['Genre'] == 'Puzzle']['Critic_Score'].mean(),\n",
    "              'Misc': video_game_df[video_game_df['Genre'] == 'Misc']['Critic_Score'].mean(),\n",
    "              'Shooter': video_game_df[video_game_df['Genre'] == 'Shooter']['Critic_Score'].mean(),\n",
    "              'Simulation': video_game_df[video_game_df['Genre'] == 'Simulation']['Critic_Score'].mean(),\n",
    "              'Action': video_game_df[video_game_df['Genre'] == 'Action']['Critic_Score'].mean(),\n",
    "              'Fighting': video_game_df[video_game_df['Genre'] == 'Fighting']['Critic_Score'].mean(),\n",
    "              'Adventure' : video_game_df[video_game_df['Genre'] == 'Adventure']['Critic_Score'].mean(),\n",
    "              'Strategy' : video_game_df[video_game_df['Genre'] == 'Strategy']['Critic_Score'].mean(),\n",
    "}\n",
    "\n",
    "GENRE_CRITIC_COUNT_AVG = {'Sports' : video_game_df[video_game_df['Genre'] == 'Sports']['Critic_Count'].mean(),\n",
    "              'Platform': video_game_df[video_game_df['Genre'] == 'Platform']['Critic_Count'].mean(),\n",
    "              'Racing': video_game_df[video_game_df['Genre'] == 'Racing']['Critic_Count'].mean(),\n",
    "              'Role-Playing': video_game_df[video_game_df['Genre'] == 'Role-Playing']['Critic_Count'].mean(),\n",
    "              'Puzzle': video_game_df[video_game_df['Genre'] == 'Puzzle']['Critic_Count'].mean(),\n",
    "              'Misc': video_game_df[video_game_df['Genre'] == 'Misc']['Critic_Count'].mean(),\n",
    "              'Shooter': video_game_df[video_game_df['Genre'] == 'Shooter']['Critic_Count'].mean(),\n",
    "              'Simulation': video_game_df[video_game_df['Genre'] == 'Simulation']['Critic_Count'].mean(),\n",
    "              'Action': video_game_df[video_game_df['Genre'] == 'Action']['Critic_Count'].mean(),\n",
    "              'Fighting': video_game_df[video_game_df['Genre'] == 'Fighting']['Critic_Count'].mean(),\n",
    "              'Adventure' : video_game_df[video_game_df['Genre'] == 'Adventure']['Critic_Count'].mean(),\n",
    "              'Strategy' : video_game_df[video_game_df['Genre'] == 'Strategy']['Critic_Count'].mean(),\n",
    "}\n",
    "\n",
    "\n",
    "# Fix user score to get the average values\n",
    "video_game_df['User_Score'] = video_game_df['User_Score'].replace(to_replace = 'tbd', value = np.nan).astype(float)\n",
    "\n",
    "GENRE_USER_SCORE_AVG = {'Sports' : video_game_df[video_game_df['Genre'] == 'Sports']['User_Score'].mean(),\n",
    "              'Platform': video_game_df[video_game_df['Genre'] == 'Platform']['User_Score'].mean(),\n",
    "              'Racing': video_game_df[video_game_df['Genre'] == 'Racing']['User_Score'].mean(),\n",
    "              'Role-Playing': video_game_df[video_game_df['Genre'] == 'Role-Playing']['User_Score'].mean(),\n",
    "              'Puzzle': video_game_df[video_game_df['Genre'] == 'Puzzle']['User_Score'].mean(),\n",
    "              'Misc': video_game_df[video_game_df['Genre'] == 'Misc']['User_Score'].mean(),\n",
    "              'Shooter': video_game_df[video_game_df['Genre'] == 'Shooter']['User_Score'].mean(),\n",
    "              'Simulation': video_game_df[video_game_df['Genre'] == 'Simulation']['User_Score'].mean(),\n",
    "              'Action': video_game_df[video_game_df['Genre'] == 'Action']['User_Score'].mean(),\n",
    "              'Fighting': video_game_df[video_game_df['Genre'] == 'Fighting']['User_Score'].mean(),\n",
    "              'Adventure' : video_game_df[video_game_df['Genre'] == 'Adventure']['User_Score'].mean(),\n",
    "              'Strategy' : video_game_df[video_game_df['Genre'] == 'Strategy']['User_Score'].mean(),\n",
    "}\n",
    "\n",
    "GENRE_USER_COUNT_AVG = {'Sports' : video_game_df[video_game_df['Genre'] == 'Sports']['User_Count'].mean(),\n",
    "              'Platform': video_game_df[video_game_df['Genre'] == 'Platform']['User_Count'].mean(),\n",
    "              'Racing': video_game_df[video_game_df['Genre'] == 'Racing']['User_Count'].mean(),\n",
    "              'Role-Playing': video_game_df[video_game_df['Genre'] == 'Role-Playing']['User_Count'].mean(),\n",
    "              'Puzzle': video_game_df[video_game_df['Genre'] == 'Puzzle']['User_Count'].mean(),\n",
    "              'Misc': video_game_df[video_game_df['Genre'] == 'Misc']['User_Count'].mean(),\n",
    "              'Shooter': video_game_df[video_game_df['Genre'] == 'Shooter']['User_Count'].mean(),\n",
    "              'Simulation': video_game_df[video_game_df['Genre'] == 'Simulation']['User_Count'].mean(),\n",
    "              'Action': video_game_df[video_game_df['Genre'] == 'Action']['User_Count'].mean(),\n",
    "              'Fighting': video_game_df[video_game_df['Genre'] == 'Fighting']['User_Count'].mean(),\n",
    "              'Adventure' : video_game_df[video_game_df['Genre'] == 'Adventure']['User_Count'].mean(),\n",
    "              'Strategy' : video_game_df[video_game_df['Genre'] == 'Strategy']['User_Count'].mean(),\n",
    "}\n",
    "\n",
    "\n",
    "PUBLISHER_GLOBAL_AVG = {}\n",
    "\n",
    "for publisher in global_df['Publisher'].unique():\n",
    "    PUBLISHER_GLOBAL_AVG[publisher] = global_df[video_game_df['Publisher'] == publisher]['Global_Sales'].mean()\n",
    "\n",
    "\n",
    "STYLE = {'purple' : '\\033[95m',\n",
    "               'cyan' : '\\033[96m',\n",
    "               'darkcyan' : '\\033[36m',\n",
    "               'blue' : '\\033[94m',\n",
    "               'green' : '\\033[92m',\n",
    "               'yellow' : '\\033[93m',\n",
    "               'red' : '\\033[91m',\n",
    "               'bold' : '\\033[1m',\n",
    "               'underline' : '\\033[4m',\n",
    "               'end' : '\\033[0m'\n",
    "}\n",
    "\n",
    "\n",
    "NUMERICS = ['int16', 'int32', 'int64', 'float16', 'float32', 'float64']"
   ]
  },
  {
   "cell_type": "markdown",
   "metadata": {},
   "source": [
    "# Exploratory Data Analysis"
   ]
  },
  {
   "cell_type": "code",
   "execution_count": 191,
   "metadata": {},
   "outputs": [],
   "source": [
    "global_df = video_game_df.drop(['NA_Sales',\n",
    "                            'EU_Sales', \n",
    "                            'JP_Sales', \n",
    "                            'Other_Sales', \n",
    "                            'Critic_Score',\n",
    "                            'Critic_Count',\n",
    "                            'User_Score',\n",
    "                            'User_Count'], axis=1)"
   ]
  },
  {
   "cell_type": "code",
   "execution_count": 66,
   "metadata": {},
   "outputs": [
    {
     "data": {
      "text/html": [
       "<div>\n",
       "<style scoped>\n",
       "    .dataframe tbody tr th:only-of-type {\n",
       "        vertical-align: middle;\n",
       "    }\n",
       "\n",
       "    .dataframe tbody tr th {\n",
       "        vertical-align: top;\n",
       "    }\n",
       "\n",
       "    .dataframe thead th {\n",
       "        text-align: right;\n",
       "    }\n",
       "</style>\n",
       "<table border=\"1\" class=\"dataframe\">\n",
       "  <thead>\n",
       "    <tr style=\"text-align: right;\">\n",
       "      <th></th>\n",
       "      <th>Name</th>\n",
       "      <th>Platform</th>\n",
       "      <th>Year_of_Release</th>\n",
       "      <th>Genre</th>\n",
       "      <th>Publisher</th>\n",
       "      <th>Global_Sales</th>\n",
       "      <th>Developer</th>\n",
       "      <th>Rating</th>\n",
       "    </tr>\n",
       "  </thead>\n",
       "  <tbody>\n",
       "    <tr>\n",
       "      <th>0</th>\n",
       "      <td>Wii Sports</td>\n",
       "      <td>Wii</td>\n",
       "      <td>2006.0</td>\n",
       "      <td>Sports</td>\n",
       "      <td>Nintendo</td>\n",
       "      <td>82.53</td>\n",
       "      <td>Nintendo</td>\n",
       "      <td>E</td>\n",
       "    </tr>\n",
       "    <tr>\n",
       "      <th>1</th>\n",
       "      <td>Super Mario Bros.</td>\n",
       "      <td>NES</td>\n",
       "      <td>1985.0</td>\n",
       "      <td>Platform</td>\n",
       "      <td>Nintendo</td>\n",
       "      <td>40.24</td>\n",
       "      <td>NaN</td>\n",
       "      <td>NaN</td>\n",
       "    </tr>\n",
       "    <tr>\n",
       "      <th>2</th>\n",
       "      <td>Mario Kart Wii</td>\n",
       "      <td>Wii</td>\n",
       "      <td>2008.0</td>\n",
       "      <td>Racing</td>\n",
       "      <td>Nintendo</td>\n",
       "      <td>35.52</td>\n",
       "      <td>Nintendo</td>\n",
       "      <td>E</td>\n",
       "    </tr>\n",
       "    <tr>\n",
       "      <th>3</th>\n",
       "      <td>Wii Sports Resort</td>\n",
       "      <td>Wii</td>\n",
       "      <td>2009.0</td>\n",
       "      <td>Sports</td>\n",
       "      <td>Nintendo</td>\n",
       "      <td>32.77</td>\n",
       "      <td>Nintendo</td>\n",
       "      <td>E</td>\n",
       "    </tr>\n",
       "    <tr>\n",
       "      <th>4</th>\n",
       "      <td>Pokemon Red/Pokemon Blue</td>\n",
       "      <td>GB</td>\n",
       "      <td>1996.0</td>\n",
       "      <td>Role-Playing</td>\n",
       "      <td>Nintendo</td>\n",
       "      <td>31.37</td>\n",
       "      <td>NaN</td>\n",
       "      <td>NaN</td>\n",
       "    </tr>\n",
       "  </tbody>\n",
       "</table>\n",
       "</div>"
      ],
      "text/plain": [
       "                       Name Platform  Year_of_Release         Genre Publisher  \\\n",
       "0                Wii Sports      Wii           2006.0        Sports  Nintendo   \n",
       "1         Super Mario Bros.      NES           1985.0      Platform  Nintendo   \n",
       "2            Mario Kart Wii      Wii           2008.0        Racing  Nintendo   \n",
       "3         Wii Sports Resort      Wii           2009.0        Sports  Nintendo   \n",
       "4  Pokemon Red/Pokemon Blue       GB           1996.0  Role-Playing  Nintendo   \n",
       "\n",
       "   Global_Sales Developer Rating  \n",
       "0         82.53  Nintendo      E  \n",
       "1         40.24       NaN    NaN  \n",
       "2         35.52  Nintendo      E  \n",
       "3         32.77  Nintendo      E  \n",
       "4         31.37       NaN    NaN  "
      ]
     },
     "metadata": {},
     "output_type": "display_data"
    },
    {
     "name": "stdout",
     "output_type": "stream",
     "text": [
      "<class 'pandas.core.frame.DataFrame'>\n",
      "RangeIndex: 16719 entries, 0 to 16718\n",
      "Data columns (total 8 columns):\n",
      "Name               16717 non-null object\n",
      "Platform           16719 non-null object\n",
      "Year_of_Release    16450 non-null float64\n",
      "Genre              16717 non-null object\n",
      "Publisher          16665 non-null object\n",
      "Global_Sales       16719 non-null float64\n",
      "Developer          10096 non-null object\n",
      "Rating             9950 non-null object\n",
      "dtypes: float64(2), object(6)\n",
      "memory usage: 1.0+ MB\n"
     ]
    },
    {
     "data": {
      "text/plain": [
       "None"
      ]
     },
     "metadata": {},
     "output_type": "display_data"
    },
    {
     "data": {
      "text/html": [
       "<div>\n",
       "<style scoped>\n",
       "    .dataframe tbody tr th:only-of-type {\n",
       "        vertical-align: middle;\n",
       "    }\n",
       "\n",
       "    .dataframe tbody tr th {\n",
       "        vertical-align: top;\n",
       "    }\n",
       "\n",
       "    .dataframe thead th {\n",
       "        text-align: right;\n",
       "    }\n",
       "</style>\n",
       "<table border=\"1\" class=\"dataframe\">\n",
       "  <thead>\n",
       "    <tr style=\"text-align: right;\">\n",
       "      <th></th>\n",
       "      <th>count</th>\n",
       "      <th>mean</th>\n",
       "      <th>std</th>\n",
       "      <th>min</th>\n",
       "      <th>25%</th>\n",
       "      <th>50%</th>\n",
       "      <th>75%</th>\n",
       "      <th>max</th>\n",
       "    </tr>\n",
       "  </thead>\n",
       "  <tbody>\n",
       "    <tr>\n",
       "      <th>Year_of_Release</th>\n",
       "      <td>16450.0</td>\n",
       "      <td>2006.487356</td>\n",
       "      <td>5.878995</td>\n",
       "      <td>1980.00</td>\n",
       "      <td>2003.00</td>\n",
       "      <td>2007.00</td>\n",
       "      <td>2010.00</td>\n",
       "      <td>2020.00</td>\n",
       "    </tr>\n",
       "    <tr>\n",
       "      <th>Global_Sales</th>\n",
       "      <td>16719.0</td>\n",
       "      <td>0.533543</td>\n",
       "      <td>1.547935</td>\n",
       "      <td>0.01</td>\n",
       "      <td>0.06</td>\n",
       "      <td>0.17</td>\n",
       "      <td>0.47</td>\n",
       "      <td>82.53</td>\n",
       "    </tr>\n",
       "  </tbody>\n",
       "</table>\n",
       "</div>"
      ],
      "text/plain": [
       "                   count         mean       std      min      25%      50%  \\\n",
       "Year_of_Release  16450.0  2006.487356  5.878995  1980.00  2003.00  2007.00   \n",
       "Global_Sales     16719.0     0.533543  1.547935     0.01     0.06     0.17   \n",
       "\n",
       "                     75%      max  \n",
       "Year_of_Release  2010.00  2020.00  \n",
       "Global_Sales        0.47    82.53  "
      ]
     },
     "metadata": {},
     "output_type": "display_data"
    },
    {
     "name": "stdout",
     "output_type": "stream",
     "text": [
      "Shape: (16719, 8)\n"
     ]
    }
   ],
   "source": [
    "\"\"\"\n",
    "-Basic general statistics about the data.\n",
    "-Rating appears to be missing many values\n",
    "-Developer is also missing a large chuck of data\n",
    "\"\"\"\n",
    "\n",
    "display(global_df.head())\n",
    "display(global_df.info())\n",
    "display(global_df.describe().T)\n",
    "print('Shape:', global_df.shape)"
   ]
  },
  {
   "cell_type": "code",
   "execution_count": 67,
   "metadata": {},
   "outputs": [
    {
     "name": "stdout",
     "output_type": "stream",
     "text": [
      "(16719, 8)\n",
      "6543\n",
      "missing data percentage 39.13511573658712\n"
     ]
    },
    {
     "data": {
      "text/plain": [
       "2010.0    451\n",
       "2008.0    438\n",
       "2011.0    409\n",
       "2009.0    407\n",
       "2007.0    376\n",
       "1998.0    346\n",
       "2006.0    326\n",
       "1999.0    296\n",
       "2012.0    285\n",
       "1997.0    268\n",
       "2015.0    267\n",
       "1996.0    255\n",
       "2005.0    232\n",
       "2014.0    230\n",
       "2013.0    221\n",
       "1995.0    219\n",
       "2000.0    200\n",
       "2016.0    190\n",
       "2002.0    174\n",
       "2004.0    162\n",
       "2003.0    162\n",
       "2001.0    143\n",
       "1994.0    120\n",
       "1993.0     62\n",
       "1981.0     46\n",
       "1992.0     41\n",
       "1991.0     41\n",
       "1982.0     36\n",
       "1986.0     21\n",
       "1989.0     17\n",
       "1983.0     17\n",
       "1987.0     16\n",
       "1990.0     16\n",
       "1988.0     14\n",
       "1984.0     14\n",
       "1985.0     13\n",
       "1980.0      9\n",
       "2017.0      3\n",
       "Name: Year_of_Release, dtype: int64"
      ]
     },
     "execution_count": 67,
     "metadata": {},
     "output_type": "execute_result"
    }
   ],
   "source": [
    "\"\"\"\n",
    "-Checking missing values by year of release.\n",
    "-Total missing values are 6543 observations which ~ 40% of the data\n",
    "\"\"\"\n",
    "print(global_df.shape)\n",
    "print(global_df[global_df.Developer.isna()].Year_of_Release.value_counts().sum())\n",
    "print('missing data percentage', \n",
    "      (global_df[global_df.Developer.isna()].Year_of_Release.value_counts().sum()/global_df.shape[0])*100)\n",
    "global_df[global_df.Developer.isna()].Year_of_Release.value_counts()"
   ]
  },
  {
   "cell_type": "code",
   "execution_count": 68,
   "metadata": {},
   "outputs": [
    {
     "data": {
      "text/plain": [
       "(1224, 8)"
      ]
     },
     "execution_count": 68,
     "metadata": {},
     "output_type": "execute_result"
    }
   ],
   "source": [
    "\"\"\"\n",
    "Checking the amount of values t\n",
    "\"\"\"\n",
    "\n",
    "_ = ((global_df[\"Global_Sales\"]>=1) & (global_df[\"Global_Sales\"]<=2)) # It is just a throw away variable name\n",
    "global_df[_].shape"
   ]
  },
  {
   "cell_type": "markdown",
   "metadata": {},
   "source": [
    "# Exploratory Data Visualization"
   ]
  },
  {
   "cell_type": "code",
   "execution_count": 73,
   "metadata": {},
   "outputs": [
    {
     "data": {
      "image/png": "[encoded data removed]",
      "text/plain": [
       "<Figure size 1080x720 with 2 Axes>"
      ]
     },
     "metadata": {
      "needs_background": "light"
     },
     "output_type": "display_data"
    }
   ],
   "source": [
    "\"\"\"\n",
    "- The boxplot reveal many outlier for each platform however it seems most outlier are positive\n",
    "\"\"\"\n",
    "\n",
    "fig, ax = plt.subplots(nrows=2, ncols=1, figsize=(15, 10))\n",
    "sns.boxplot(x=\"Platform\", y=\"Global_Sales\", data=global_df, ax=ax[0])\n",
    "sns.boxplot(x=\"Platform\", y=\"Global_Sales\", data=global_df[global_df[\"Global_Sales\"]<=5], ax=ax[1]);"
   ]
  },
  {
   "cell_type": "markdown",
   "metadata": {},
   "source": [
    "# Data Prep"
   ]
  },
  {
   "cell_type": "code",
   "execution_count": 202,
   "metadata": {
    "scrolled": false
   },
   "outputs": [],
   "source": [
    "#display(global_df.head())\n",
    "#display(global_df.info())\n",
    "# display(global_df.describe().T)\n",
    "# print('Shape:', global_df.shape)"
   ]
  },
  {
   "cell_type": "code",
   "execution_count": 192,
   "metadata": {},
   "outputs": [],
   "source": [
    "\"\"\"\n",
    "-Unable to identify developers and rating. classifying nan values as unknown for now\n",
    "\"\"\"\n",
    "\n",
    "global_df['Developer'].fillna('Unknown', inplace=True)\n",
    "global_df['Rating'].fillna('Unknown', inplace=True)"
   ]
  },
  {
   "cell_type": "code",
   "execution_count": 193,
   "metadata": {},
   "outputs": [],
   "source": [
    "\"\"\"\n",
    "-Only two values missing from genre so we removed the rows\n",
    "-Year_of-release has ~ 300 rows missing but this only 1.6% of the remaining observations so we removed them too. \n",
    "-The publisher had ~ 30 rows missing after removing the nan row. this is less than 1% of the remaining\n",
    " data so it was nans were removed\n",
    "-\n",
    "\n",
    "\"\"\"\n",
    "\n",
    "global_df.dropna(subset=['Genre', 'Year_of_Release', 'Publisher'], inplace=True)"
   ]
  },
  {
   "cell_type": "code",
   "execution_count": 194,
   "metadata": {},
   "outputs": [],
   "source": [
    "\"\"\"\n",
    "- We made a new column of the len in characters for each game name to check if name len had an effect on global sales\n",
    "- We also counted the number of words in each name for the same purpose\n",
    "\"\"\"\n",
    "\n",
    "global_df['Name_Character_Length'] = global_df['Name'].map(lambda name : len(name))\n",
    "global_df['Name_Word_Count'] = global_df['Name'].map(lambda name : len(name.split()))"
   ]
  },
  {
   "cell_type": "code",
   "execution_count": 195,
   "metadata": {},
   "outputs": [],
   "source": [
    "\"\"\"\n",
    "- A decision was made to model after plaforms released 2007 and onward and to exclude handhelds.\n",
    "- DC (DreamCast) is a special exception \n",
    "\"\"\"\n",
    "\n",
    "_ = ((global_df['Year_of_Release'] > 2007) \n",
    "     & (global_df['Platform'].isin(['DC', 'DS', 'GB', 'PSP', '3DS', 'PSV']) == False))\n",
    "global_df = global_df[_]"
   ]
  },
  {
   "cell_type": "code",
   "execution_count": 196,
   "metadata": {
    "scrolled": false
   },
   "outputs": [],
   "source": [
    "\"\"\"\n",
    "One hot encoding three catagorical columns because they don't have too many unique values\n",
    "\"\"\"\n",
    "\n",
    "_ = pd.get_dummies(global_df['Rating'], drop_first=True)\n",
    "global_df = pd.concat([global_df, _], axis=1)\n",
    "\n",
    "_ = pd.get_dummies(global_df['Genre'], drop_first=True)\n",
    "global_df = pd.concat([global_df, _], axis=1)\n",
    "\n",
    "_ = pd.get_dummies(global_df['Platform'], drop_first=True)\n",
    "global_df = pd.concat([global_df, _], axis=1)"
   ]
  },
  {
   "cell_type": "code",
   "execution_count": 164,
   "metadata": {},
   "outputs": [],
   "source": [
    "\"\"\"\n",
    "Drop all columns not needed to build models\n",
    "\"\"\"\n",
    "global_df.drop(columns=['Developer', 'Name', 'Platform', 'Genre', 'Rating'], inplace=True)"
   ]
  },
  {
   "cell_type": "code",
   "execution_count": 244,
   "metadata": {},
   "outputs": [],
   "source": [
    "# #Fill all nan value with the average by genre\n",
    "# video_game_null_fill_df = video_game_null_fill_df.apply(lambda x : fillna_average_by_target_column(x, GENRE_CRITIC_SCORE_AVG, 3, 10),  axis=1)\n",
    "\n",
    "\n",
    "# video_game_null_fill_df = video_game_null_fill_df.apply(lambda x : fillna_average_by_target_column(x, GENRE_CRITIC_COUNT_AVG, 3, 11),  axis=1)\n",
    "# video_game_null_fill_df = video_game_null_fill_df.apply(lambda x : fillna_average_by_target_column(x, GENRE_USER_SCORE_AVG, 3, 12),  axis=1)\n",
    "# video_game_null_fill_df = video_game_null_fill_df.apply(lambda x : fillna_average_by_target_column(x, GENRE_CRITIC_COUNT_AVG, 3, 13),  axis=1)\n",
    "\n",
    "# #Drop all related sales columns\n",
    "# video_game_null_fill_df.drop(columns=['EU_Sales', 'JP_Sales', 'Other_Sales', 'Global_Sales'], inplace=True)\n",
    "\n",
    "# #Drop all release year Nan  rows Appoximity ~ 300 rows\n",
    "# #video_game_null_fill_df.dropna(subset=['Year_of_Release', 'Genre'], inplace=True)\n",
    "\n",
    "# # Make release a simple int type to represent it more accuracly \n",
    "# video_game_null_fill_df['Year_of_Release'] = video_game_null_fill_df['Year_of_Release'].astype(int)\n",
    "\n",
    "# # Convert user score to float to represent accurately\n",
    "# video_game_null_fill_df['User_Score'] = video_game_null_fill_df['User_Score'].astype(float)\n",
    "\n",
    "# # Drop all observation below the year 1990\n",
    "# video_game_null_fill_df = video_game_null_fill_df[video_game_null_fill_df['Year_of_Release'] > 1995]"
   ]
  },
  {
   "cell_type": "markdown",
   "metadata": {},
   "source": [
    "# Modeling"
   ]
  },
  {
   "cell_type": "code",
   "execution_count": 209,
   "metadata": {},
   "outputs": [],
   "source": [
    "x_columns = ['Year_of_Release',\n",
    " 'Name_Character_Length',\n",
    " 'Name_Word_Count',\n",
    " 'E10+',\n",
    " 'EC',\n",
    " 'M',\n",
    " 'RP',\n",
    " 'T',\n",
    " 'Unknown',\n",
    " 'Adventure',\n",
    " 'Fighting',\n",
    " 'Misc',\n",
    " 'Puzzle',\n",
    " 'Racing',\n",
    " 'Role-Playing',\n",
    " 'Shooter',\n",
    " 'Simulation',\n",
    " 'Sports',\n",
    " 'Strategy',\n",
    " 'Platform_PS2',\n",
    " 'Platform_PS3',\n",
    " 'Platform_PS4',\n",
    " 'Platform_Wii',\n",
    " 'Platform_WiiU',\n",
    " 'Platform_X360',\n",
    " 'Platform_XB',\n",
    " 'Platform_XOne',\n",
    " 'Publisher',\n",
    " 'Global_Sales']"
   ]
  },
  {
   "cell_type": "code",
   "execution_count": 210,
   "metadata": {},
   "outputs": [],
   "source": [
    "X = global_df[x_columns]\n",
    "\n",
    "y = global_df.Global_Sales\n",
    "\n",
    "log_y = np.log(y)"
   ]
  },
  {
   "cell_type": "code",
   "execution_count": 211,
   "metadata": {},
   "outputs": [],
   "source": [
    "from sklearn.model_selection import train_test_split"
   ]
  },
  {
   "cell_type": "code",
   "execution_count": 212,
   "metadata": {},
   "outputs": [],
   "source": [
    " X_train, X_test, y_train, y_test = train_test_split(X, log_y, test_size= 0.2)"
   ]
  },
  {
   "cell_type": "code",
   "execution_count": 214,
   "metadata": {},
   "outputs": [
    {
     "name": "stderr",
     "output_type": "stream",
     "text": [
      "scripts//methods_globals_constants.py:2: SettingWithCopyWarning: \n",
      "A value is trying to be set on a copy of a slice from a DataFrame.\n",
      "Try using .loc[row_indexer,col_indexer] = value instead\n",
      "\n",
      "See the caveats in the documentation: http://pandas.pydata.org/pandas-docs/stable/indexing.html#indexing-view-versus-copy\n",
      "  \"\"\"\n",
      "scripts//methods_globals_constants.py:6: SettingWithCopyWarning: \n",
      "A value is trying to be set on a copy of a slice from a DataFrame.\n",
      "Try using .loc[row_indexer,col_indexer] = value instead\n",
      "\n",
      "See the caveats in the documentation: http://pandas.pydata.org/pandas-docs/stable/indexing.html#indexing-view-versus-copy\n",
      "  Parameters\n"
     ]
    }
   ],
   "source": [
    "#Make copy of publisher and iterative alter yourself until you contain mean avg\n",
    "X_train['Publisher_Avg'] = X_train['Publisher']\n",
    "\n",
    "for publisher in X_train['Publisher'].unique():\n",
    "    mean = X_train[X_train['Publisher_Avg'] == publisher]['Global_Sales'].mean()\n",
    "    X_train['Publisher_Avg'] = X_train['Publisher_Avg'].replace(to_replace = publisher, value=mean)"
   ]
  },
  {
   "cell_type": "code",
   "execution_count": 218,
   "metadata": {},
   "outputs": [
    {
     "name": "stderr",
     "output_type": "stream",
     "text": [
      "C:\\Users\\Laurent\\Anaconda3\\lib\\site-packages\\pandas\\core\\frame.py:3940: SettingWithCopyWarning: \n",
      "A value is trying to be set on a copy of a slice from a DataFrame\n",
      "\n",
      "See the caveats in the documentation: http://pandas.pydata.org/pandas-docs/stable/indexing.html#indexing-view-versus-copy\n",
      "  errors=errors)\n"
     ]
    }
   ],
   "source": [
    "X_train.drop(columns=['Publisher','Global_Sales'], inplace=True)"
   ]
  },
  {
   "cell_type": "code",
   "execution_count": 219,
   "metadata": {},
   "outputs": [],
   "source": [
    "from sklearn.linear_model import LinearRegression"
   ]
  },
  {
   "cell_type": "code",
   "execution_count": 220,
   "metadata": {},
   "outputs": [],
   "source": [
    "lr = LinearRegression()"
   ]
  },
  {
   "cell_type": "code",
   "execution_count": 221,
   "metadata": {},
   "outputs": [
    {
     "data": {
      "text/plain": [
       "LinearRegression(copy_X=True, fit_intercept=True, n_jobs=None, normalize=False)"
      ]
     },
     "execution_count": 221,
     "metadata": {},
     "output_type": "execute_result"
    }
   ],
   "source": [
    "lr.fit(X_train, y_train)"
   ]
  },
  {
   "cell_type": "code",
   "execution_count": 222,
   "metadata": {},
   "outputs": [],
   "source": [
    "y_pred = lr.predict(X_train)"
   ]
  },
  {
   "cell_type": "code",
   "execution_count": 223,
   "metadata": {},
   "outputs": [
    {
     "data": {
      "text/plain": [
       "<matplotlib.collections.PathCollection at 0x1318d2ff668>"
      ]
     },
     "execution_count": 223,
     "metadata": {},
     "output_type": "execute_result"
    },
    {
     "data": {
      "image/png": "[encoded data removed]",
      "text/plain": [
       "<Figure size 432x288 with 1 Axes>"
      ]
     },
     "metadata": {
      "needs_background": "light"
     },
     "output_type": "display_data"
    }
   ],
   "source": [
    "plt.scatter(y_train, y_pred)"
   ]
  },
  {
   "cell_type": "code",
   "execution_count": 224,
   "metadata": {},
   "outputs": [],
   "source": [
    "res = y_train - y_pred "
   ]
  },
  {
   "cell_type": "code",
   "execution_count": null,
   "metadata": {},
   "outputs": [],
   "source": []
  },
  {
   "cell_type": "code",
   "execution_count": 225,
   "metadata": {},
   "outputs": [
    {
     "data": {
      "text/plain": [
       "<matplotlib.collections.PathCollection at 0x13190a37518>"
      ]
     },
     "execution_count": 225,
     "metadata": {},
     "output_type": "execute_result"
    },
    {
     "data": {
      "image/png": "[encoded data removed]",
      "text/plain": [
       "<Figure size 432x288 with 1 Axes>"
      ]
     },
     "metadata": {
      "needs_background": "light"
     },
     "output_type": "display_data"
    }
   ],
   "source": [
    "plt.scatter(y_pred, res)"
   ]
  },
  {
   "cell_type": "markdown",
   "metadata": {},
   "source": [
    "# Interactions"
   ]
  },
  {
   "cell_type": "code",
   "execution_count": 239,
   "metadata": {},
   "outputs": [
    {
     "data": {
      "text/html": [
       "<div>\n",
       "<style scoped>\n",
       "    .dataframe tbody tr th:only-of-type {\n",
       "        vertical-align: middle;\n",
       "    }\n",
       "\n",
       "    .dataframe tbody tr th {\n",
       "        vertical-align: top;\n",
       "    }\n",
       "\n",
       "    .dataframe thead th {\n",
       "        text-align: right;\n",
       "    }\n",
       "</style>\n",
       "<table border=\"1\" class=\"dataframe\">\n",
       "  <thead>\n",
       "    <tr style=\"text-align: right;\">\n",
       "      <th></th>\n",
       "      <th>Year_of_Release</th>\n",
       "      <th>Name_Character_Length</th>\n",
       "      <th>Name_Word_Count</th>\n",
       "      <th>E10+</th>\n",
       "      <th>EC</th>\n",
       "      <th>M</th>\n",
       "      <th>RP</th>\n",
       "      <th>T</th>\n",
       "      <th>Unknown</th>\n",
       "      <th>Adventure</th>\n",
       "      <th>...</th>\n",
       "      <th>Platform_XOne</th>\n",
       "      <th>Publisher_Avg</th>\n",
       "      <th>IN_Adventure_Platform_PS2</th>\n",
       "      <th>IN_Adventure_Platform_PS3</th>\n",
       "      <th>IN_Adventure_Platform_PS4</th>\n",
       "      <th>IN_Adventure_Platform_Wii</th>\n",
       "      <th>IN_Adventure_Platform_WiiU</th>\n",
       "      <th>IN_Adventure_Platform_X360</th>\n",
       "      <th>IN_Adventure_Platform_XB</th>\n",
       "      <th>IN_Adventure_Platform_XOne</th>\n",
       "    </tr>\n",
       "  </thead>\n",
       "  <tbody>\n",
       "    <tr>\n",
       "      <th>2945</th>\n",
       "      <td>2012.0</td>\n",
       "      <td>14</td>\n",
       "      <td>3</td>\n",
       "      <td>0</td>\n",
       "      <td>0</td>\n",
       "      <td>0</td>\n",
       "      <td>0</td>\n",
       "      <td>0</td>\n",
       "      <td>0</td>\n",
       "      <td>0</td>\n",
       "      <td>...</td>\n",
       "      <td>0</td>\n",
       "      <td>1.062156</td>\n",
       "      <td>0</td>\n",
       "      <td>0</td>\n",
       "      <td>0</td>\n",
       "      <td>0</td>\n",
       "      <td>0</td>\n",
       "      <td>0</td>\n",
       "      <td>0</td>\n",
       "      <td>0</td>\n",
       "    </tr>\n",
       "    <tr>\n",
       "      <th>5770</th>\n",
       "      <td>2010.0</td>\n",
       "      <td>19</td>\n",
       "      <td>4</td>\n",
       "      <td>0</td>\n",
       "      <td>0</td>\n",
       "      <td>0</td>\n",
       "      <td>0</td>\n",
       "      <td>1</td>\n",
       "      <td>0</td>\n",
       "      <td>0</td>\n",
       "      <td>...</td>\n",
       "      <td>0</td>\n",
       "      <td>0.308578</td>\n",
       "      <td>0</td>\n",
       "      <td>0</td>\n",
       "      <td>0</td>\n",
       "      <td>0</td>\n",
       "      <td>0</td>\n",
       "      <td>0</td>\n",
       "      <td>0</td>\n",
       "      <td>0</td>\n",
       "    </tr>\n",
       "    <tr>\n",
       "      <th>14941</th>\n",
       "      <td>2011.0</td>\n",
       "      <td>41</td>\n",
       "      <td>6</td>\n",
       "      <td>0</td>\n",
       "      <td>0</td>\n",
       "      <td>0</td>\n",
       "      <td>0</td>\n",
       "      <td>0</td>\n",
       "      <td>1</td>\n",
       "      <td>0</td>\n",
       "      <td>...</td>\n",
       "      <td>0</td>\n",
       "      <td>0.448155</td>\n",
       "      <td>0</td>\n",
       "      <td>0</td>\n",
       "      <td>0</td>\n",
       "      <td>0</td>\n",
       "      <td>0</td>\n",
       "      <td>0</td>\n",
       "      <td>0</td>\n",
       "      <td>0</td>\n",
       "    </tr>\n",
       "    <tr>\n",
       "      <th>6379</th>\n",
       "      <td>2010.0</td>\n",
       "      <td>21</td>\n",
       "      <td>4</td>\n",
       "      <td>0</td>\n",
       "      <td>0</td>\n",
       "      <td>0</td>\n",
       "      <td>0</td>\n",
       "      <td>0</td>\n",
       "      <td>0</td>\n",
       "      <td>0</td>\n",
       "      <td>...</td>\n",
       "      <td>0</td>\n",
       "      <td>0.095000</td>\n",
       "      <td>0</td>\n",
       "      <td>0</td>\n",
       "      <td>0</td>\n",
       "      <td>0</td>\n",
       "      <td>0</td>\n",
       "      <td>0</td>\n",
       "      <td>0</td>\n",
       "      <td>0</td>\n",
       "    </tr>\n",
       "    <tr>\n",
       "      <th>2653</th>\n",
       "      <td>2009.0</td>\n",
       "      <td>16</td>\n",
       "      <td>3</td>\n",
       "      <td>0</td>\n",
       "      <td>0</td>\n",
       "      <td>0</td>\n",
       "      <td>0</td>\n",
       "      <td>0</td>\n",
       "      <td>1</td>\n",
       "      <td>0</td>\n",
       "      <td>...</td>\n",
       "      <td>0</td>\n",
       "      <td>0.746655</td>\n",
       "      <td>0</td>\n",
       "      <td>0</td>\n",
       "      <td>0</td>\n",
       "      <td>0</td>\n",
       "      <td>0</td>\n",
       "      <td>0</td>\n",
       "      <td>0</td>\n",
       "      <td>0</td>\n",
       "    </tr>\n",
       "  </tbody>\n",
       "</table>\n",
       "<p>5 rows × 36 columns</p>\n",
       "</div>"
      ],
      "text/plain": [
       "       Year_of_Release  Name_Character_Length  Name_Word_Count  E10+  EC  M  \\\n",
       "2945            2012.0                     14                3     0   0  0   \n",
       "5770            2010.0                     19                4     0   0  0   \n",
       "14941           2011.0                     41                6     0   0  0   \n",
       "6379            2010.0                     21                4     0   0  0   \n",
       "2653            2009.0                     16                3     0   0  0   \n",
       "\n",
       "       RP  T  Unknown  Adventure  ...  Platform_XOne  Publisher_Avg  \\\n",
       "2945    0  0        0          0  ...              0       1.062156   \n",
       "5770    0  1        0          0  ...              0       0.308578   \n",
       "14941   0  0        1          0  ...              0       0.448155   \n",
       "6379    0  0        0          0  ...              0       0.095000   \n",
       "2653    0  0        1          0  ...              0       0.746655   \n",
       "\n",
       "       IN_Adventure_Platform_PS2  IN_Adventure_Platform_PS3  \\\n",
       "2945                           0                          0   \n",
       "5770                           0                          0   \n",
       "14941                          0                          0   \n",
       "6379                           0                          0   \n",
       "2653                           0                          0   \n",
       "\n",
       "       IN_Adventure_Platform_PS4  IN_Adventure_Platform_Wii  \\\n",
       "2945                           0                          0   \n",
       "5770                           0                          0   \n",
       "14941                          0                          0   \n",
       "6379                           0                          0   \n",
       "2653                           0                          0   \n",
       "\n",
       "       IN_Adventure_Platform_WiiU  IN_Adventure_Platform_X360  \\\n",
       "2945                            0                           0   \n",
       "5770                            0                           0   \n",
       "14941                           0                           0   \n",
       "6379                            0                           0   \n",
       "2653                            0                           0   \n",
       "\n",
       "       IN_Adventure_Platform_XB  IN_Adventure_Platform_XOne  \n",
       "2945                          0                           0  \n",
       "5770                          0                           0  \n",
       "14941                         0                           0  \n",
       "6379                          0                           0  \n",
       "2653                          0                           0  \n",
       "\n",
       "[5 rows x 36 columns]"
      ]
     },
     "execution_count": 239,
     "metadata": {},
     "output_type": "execute_result"
    }
   ],
   "source": [
    "X_train.head()"
   ]
  },
  {
   "cell_type": "code",
   "execution_count": 229,
   "metadata": {},
   "outputs": [
    {
     "data": {
      "text/plain": [
       "[(0, 'Year_of_Release'),\n",
       " (1, 'Name_Character_Length'),\n",
       " (2, 'Name_Word_Count'),\n",
       " (3, 'E10+'),\n",
       " (4, 'EC'),\n",
       " (5, 'M'),\n",
       " (6, 'RP'),\n",
       " (7, 'T'),\n",
       " (8, 'Unknown'),\n",
       " (9, 'Adventure'),\n",
       " (10, 'Fighting'),\n",
       " (11, 'Misc'),\n",
       " (12, 'Puzzle'),\n",
       " (13, 'Racing'),\n",
       " (14, 'Role-Playing'),\n",
       " (15, 'Shooter'),\n",
       " (16, 'Simulation'),\n",
       " (17, 'Sports'),\n",
       " (18, 'Strategy'),\n",
       " (19, 'Platform_PS2'),\n",
       " (20, 'Platform_PS3'),\n",
       " (21, 'Platform_PS4'),\n",
       " (22, 'Platform_Wii'),\n",
       " (23, 'Platform_WiiU'),\n",
       " (24, 'Platform_X360'),\n",
       " (25, 'Platform_XB'),\n",
       " (26, 'Platform_XOne'),\n",
       " (27, 'Publisher_Avg')]"
      ]
     },
     "execution_count": 229,
     "metadata": {},
     "output_type": "execute_result"
    }
   ],
   "source": [
    "list(enumerate(X_train.columns))"
   ]
  },
  {
   "cell_type": "code",
   "execution_count": 238,
   "metadata": {},
   "outputs": [
    {
     "name": "stderr",
     "output_type": "stream",
     "text": [
      "scripts//methods_globals_constants.py:2: SettingWithCopyWarning: \n",
      "A value is trying to be set on a copy of a slice from a DataFrame.\n",
      "Try using .loc[row_indexer,col_indexer] = value instead\n",
      "\n",
      "See the caveats in the documentation: http://pandas.pydata.org/pandas-docs/stable/indexing.html#indexing-view-versus-copy\n",
      "  \"\"\"\n"
     ]
    }
   ],
   "source": [
    "#Add the interaction for Adevnture and platform\n",
    "for cols in list(range(19, 27)):\n",
    "    X_train[f'IN_Adventure_{X_train.columns[cols]}'] = X_train['Adventure']  * X_train.loc[:, X_train.columns[cols]]"
   ]
  },
  {
   "cell_type": "code",
   "execution_count": 240,
   "metadata": {},
   "outputs": [],
   "source": [
    "action_platform_inter = LinearRegression()\n",
    "action_platform_inter.fit(X_train, y_train)\n",
    "y_pred = action_platform_inter.predict(X_train)"
   ]
  },
  {
   "cell_type": "code",
   "execution_count": 241,
   "metadata": {},
   "outputs": [
    {
     "data": {
      "text/plain": [
       "<matplotlib.collections.PathCollection at 0x1318f883c50>"
      ]
     },
     "execution_count": 241,
     "metadata": {},
     "output_type": "execute_result"
    },
    {
     "data": {
      "image/png": "[encoded data removed]",
      "text/plain": [
       "<Figure size 432x288 with 1 Axes>"
      ]
     },
     "metadata": {
      "needs_background": "light"
     },
     "output_type": "display_data"
    }
   ],
   "source": [
    "plt.scatter(y_train, y_pred)"
   ]
  },
  {
   "cell_type": "code",
   "execution_count": 242,
   "metadata": {},
   "outputs": [],
   "source": [
    "res = y_train - y_pred "
   ]
  },
  {
   "cell_type": "code",
   "execution_count": 243,
   "metadata": {},
   "outputs": [
    {
     "data": {
      "text/plain": [
       "<matplotlib.collections.PathCollection at 0x13190193518>"
      ]
     },
     "execution_count": 243,
     "metadata": {},
     "output_type": "execute_result"
    },
    {
     "data": {
      "image/png": "[encoded data removed]",
      "text/plain": [
       "<Figure size 432x288 with 1 Axes>"
      ]
     },
     "metadata": {
      "needs_background": "light"
     },
     "output_type": "display_data"
    }
   ],
   "source": [
    "plt.scatter(y_pred, res)"
   ]
  },
  {
   "cell_type": "markdown",
   "metadata": {},
   "source": [
    "# Cleaned Data Exploratory Analysis"
   ]
  },
  {
   "cell_type": "code",
   "execution_count": null,
   "metadata": {},
   "outputs": [],
   "source": [
    "\"\"\"\n",
    "The user and critic score are on two different scales. Critics scores are 0-100, User scores are 0-10\n",
    "\"\"\"\n",
    "\n",
    "display(video_game_null_fill_df['Critic_Score'].describe())\n",
    "display(video_game_null_fill_df['User_Score'].describe())"
   ]
  },
  {
   "cell_type": "markdown",
   "metadata": {},
   "source": [
    "# Cleaned Data Exploratory Visual"
   ]
  },
  {
   "cell_type": "code",
   "execution_count": null,
   "metadata": {},
   "outputs": [],
   "source": [
    "\"\"\"\n",
    "By the year 2000 there was no signicant online present for metacritic. Below games released before 1995 were removed.\n",
    "\"\"\"\n",
    "print('Dataframe with filled nan values')\n",
    "sns.pairplot(video_game_null_fill_df);"
   ]
  },
  {
   "cell_type": "code",
   "execution_count": null,
   "metadata": {},
   "outputs": [],
   "source": [
    "\"\"\"\n",
    "Critic score and count are strongly correlated suggesting the number of critque averages out the game's score\n",
    "\"\"\"\n",
    "fig, ax = plt.subplots(figsize=(15,8))  \n",
    "sns.heatmap(video_game_null_fill_df.corr(), annot=True, ax=ax);"
   ]
  },
  {
   "cell_type": "code",
   "execution_count": null,
   "metadata": {},
   "outputs": [],
   "source": [
    "\"\"\"\n",
    "The User scores and critic score are on different scales being 0-10 and 0-100 respectfully. \n",
    "Dispite this the distrubtions do look normal so critics and users may review the same way\n",
    "\"\"\"\n",
    "fig, ax = plt.subplots(figsize=(15,8))  \n",
    "\n",
    "ax.hist(video_game_null_fill_df['Critic_Score'])\n",
    "ax.hist(video_game_null_fill_df['User_Score']);"
   ]
  },
  {
   "cell_type": "code",
   "execution_count": null,
   "metadata": {},
   "outputs": [],
   "source": [
    "\"\"\"\n",
    "The critics total of reviews per game is so small compared to count of user reviews,\n",
    "the critics histogram doesn't appear at all. One thing about them is their skewness to the left. \n",
    "Both have the same form of skewness where for a particular game there are way more than normal\n",
    "\"\"\"\n",
    "\n",
    "fig, ax = plt.subplots(nrows=2, ncols=1, figsize=(15,8))  \n",
    "\n",
    "ax[0].hist(video_game_null_fill_df['Critic_Count'])\n",
    "ax[0].hist(video_game_null_fill_df['User_Count'])\n",
    "\n",
    "ax[1].hist(video_game_null_fill_df['Critic_Count']);;"
   ]
  },
  {
   "cell_type": "code",
   "execution_count": null,
   "metadata": {},
   "outputs": [],
   "source": [
    "\"\"\"\n",
    "Oh no..... What \n",
    "\"\"\"\n",
    "\n",
    "fig, ax = plt.subplots(figsize=(15,8))  \n",
    "\n",
    "ax.bar(x = video_game_null_fill_df['Year_of_Release'], height = video_game_null_fill_df['Critic_Count']);"
   ]
  },
  {
   "cell_type": "code",
   "execution_count": null,
   "metadata": {},
   "outputs": [],
   "source": [
    "video_game_null_fill_df[video_game_null_fill_df['Year_of_Release'] == 2020]"
   ]
  },
  {
   "cell_type": "markdown",
   "metadata": {},
   "source": [
    "# Encoding"
   ]
  },
  {
   "cell_type": "code",
   "execution_count": null,
   "metadata": {},
   "outputs": [],
   "source": [
    "_ = pd.get_dummies(video_game_null_fill_df[['Platform']], drop_first=True)\n",
    "list(pd.concat([video_game_null_fill_df, _], axis=1, sort=False).columns)[12:].sort()"
   ]
  },
  {
   "cell_type": "code",
   "execution_count": null,
   "metadata": {},
   "outputs": [],
   "source": [
    "print(video_game_null_fill_df['Platform'].unique())\n",
    "print(video_game_null_fill_df['Platform'].shape)"
   ]
  },
  {
   "cell_type": "markdown",
   "metadata": {},
   "source": [
    "# Scaling/Normalizing Data"
   ]
  },
  {
   "cell_type": "code",
   "execution_count": null,
   "metadata": {},
   "outputs": [],
   "source": [
    "video_game_df[feat].map(lambda x: np.log(x))"
   ]
  },
  {
   "cell_type": "code",
   "execution_count": null,
   "metadata": {},
   "outputs": [],
   "source": [
    "# Min-Max scaling User score and Critic score for interpretation\n",
    "\n",
    "_ = video_game_null_fill_df['Critic_Score']\n",
    "video_game_null_fill_df['Critic_Score'] = (_-min(_))/(max(_)-min(_))\n",
    "video_game_null_fill_df['User_Score'] = (logcrim-min(logcrim))/(max(logcrim)-min(logcrim))\n",
    "boston_features['DIS'] = (logdis-min(logdis))/(max(logdis)-min(logdis))\n",
    "\n",
    "\n",
    "\n",
    "data = [[-1, 2], [-0.5, 6], [0, 10], [1, 18]]\n",
    ">>> scaler = MinMaxScaler()\n",
    ">>> print(scaler.fit(data))\n",
    "MinMaxScaler()\n",
    ">>> print(scaler.data_max_)\n",
    "[ 1. 18.]\n",
    ">>> print(scaler.transform(data))\n",
    "[[0.   0.  ]\n",
    " [0.25 0.25]\n",
    " [0.5  0.5 ]\n",
    " [1.   1.  ]]\n",
    ">>> print(scaler.transform([[2, 2]]))\n",
    "[[1.5 0. ]]"
   ]
  },
  {
   "cell_type": "markdown",
   "metadata": {},
   "source": [
    "# [Video Game]\n",
    "#### Data World \n",
    "    *https://data.world/craigkelly/steam-game-data\n",
    "    [Shareholder] They are a publisher, they want buy a new team but want to make sure they make good choice\n",
    "        [Question1] Can we build a predict/regression model to predict a potential interval for steamspyowners? \n",
    "        [Question2] Metacritic scores are from 0 -100. Could we build a classifer model?\n",
    "#### Kaggle\n",
    "\t*https://www.kaggle.com/gregorut/videogamesales\n",
    "\t*https://www.kaggle.com/rush4ratio/video-game-sales-with-ratings\n",
    "\t*https://www.kaggle.com/kendallgillies/video-game-sales-and-ratings\n",
    "     [Shareholder] They are a publisher is looking for recommendations for what types of game to make\n",
    "         [Question1] Can we pridict Global_Sales\n",
    "\n",
    "\n",
    "# [Animals]\n",
    "##### Kaggle \n",
    "    *https://www.kaggle.com/aaronschlegel/austin-animal-center-shelter-outcomes-and\n",
    "    [Shareholder] ?????\n",
    "    \n",
    "    [Not Enough]https://www.kaggle.com/mbogernetto/brazilian-amazon-rainforest-degradation\n",
    "    [Not independent]https://www.kaggle.com/se18m502/bee-hive-metrics#weight_2017.csv\n",
    "    [Not independent]https://www.kaggle.com/hocop1/cat-and-dog-breeds-parameters\n",
    "    [Not independent]https://www.kaggle.com/jessicali9530/honey-production\n",
    "    \n",
    "# [Medical]\n",
    "##### Kaggle\n",
    "    [Not independent]https://www.kaggle.com/de5d5fe61fcaa6ad7a66/coronavirus-dataset-update-0206\n",
    "\n",
    "# [Vehicle]\n",
    "##### Data World\n",
    "    https://data.world/nhtsa/nhtsas-odi-recalls/workspace/project-summary?agentid=nhtsa&datasetid=nhtsas-odi-recalls\n",
    "\n",
    "##### Kaggle\n",
    "    https://www.kaggle.com/austinreese/craigslist-carstrucks-data\n",
    "    [ShareHolder] A small start up want to build an app to help people buy better cars off craiglist. \n",
    "        [Question1] Can we classify the cars by title_status?\n",
    "        [Question2] Can we predict the odometer for the car?\n",
    "        [Question3] Can we classify condition\n",
    "        \n",
    "    *https://www.kaggle.com/mirosval/personal-cars-classifieds\n",
    "    [ShareHolder] Find cars for people app\n",
    "        [Question]The user get an estimate of price_eur based on car details\n",
    "        \n",
    "# [Misc]\n",
    "##### Buzzfeed\n",
    "    *https://github.com/BuzzFeedNews/2014-06-firework-injuries\n",
    "    [Shareholder] We're an evil insurance company, which collection of people should we raise the price? \n",
    "    [Question]\n",
    "    \n",
    "    *https://www.kaggle.com/rusiano/snooker-data-19822020#players_r.csv"
   ]
  }
 ],
 "metadata": {
  "kernelspec": {
   "display_name": "Python 3",
   "language": "python",
   "name": "python3"
  },
  "language_info": {
   "codemirror_mode": {
    "name": "ipython",
    "version": 3
   },
   "file_extension": ".py",
   "mimetype": "text/x-python",
   "name": "python",
   "nbconvert_exporter": "python",
   "pygments_lexer": "ipython3",
   "version": "3.7.3"
  }
 },
 "nbformat": 4,
 "nbformat_minor": 2
}

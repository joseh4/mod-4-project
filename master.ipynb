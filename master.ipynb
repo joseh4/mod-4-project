{
 "cells": [
  {
   "cell_type": "markdown",
   "metadata": {},
   "source": [
    "# [Travel]\n",
    "Data World\n",
    "\n",
    "\n",
    "# [Video Game]\n",
    "#### Data World \n",
    "    *https://data.world/craigkelly/steam-game-data\n",
    "\t\n",
    "#### Kaggle\n",
    "\t*https://www.kaggle.com/gregorut/videogamesales\n",
    "\t*https://www.kaggle.com/rush4ratio/video-game-sales-with-ratings\n",
    "\t*https://www.kaggle.com/kendallgillies/video-game-sales-and-ratings\n",
    "\n",
    "# [Animals]\n",
    "##### Kaggle \n",
    "    *https://www.kaggle.com/aaronschlegel/austin-animal-center-shelter-outcomes-and\n",
    "    https://www.kaggle.com/mbogernetto/brazilian-amazon-rainforest-degradation\n",
    "    **https://www.kaggle.com/se18m502/bee-hive-metrics#weight_2017.csv\n",
    "    https://www.kaggle.com/hocop1/cat-and-dog-breeds-parameters\n",
    "    https://www.kaggle.com/jessicali9530/honey-production\n",
    "    \n",
    "# [Medical]\n",
    "#### Kaggle\n",
    "    *https://www.kaggle.com/de5d5fe61fcaa6ad7a66/coronavirus-dataset-update-0206\n",
    "\n",
    "# [Vehicle]\n",
    "#### Data World\n",
    "    https://data.world/nhtsa/nhtsas-odi-recalls/workspace/project-summary?agentid=nhtsa&datasetid=nhtsas-odi-recalls\n"
   ]
  },
  {
   "cell_type": "code",
   "execution_count": null,
   "metadata": {},
   "outputs": [],
   "source": []
  },
  {
   "cell_type": "code",
   "execution_count": null,
   "metadata": {},
   "outputs": [],
   "source": []
  }
 ],
 "metadata": {
  "kernelspec": {
   "display_name": "Python 3",
   "language": "python",
   "name": "python3"
  },
  "language_info": {
   "codemirror_mode": {
    "name": "ipython",
    "version": 3
   },
   "file_extension": ".py",
   "mimetype": "text/x-python",
   "name": "python",
   "nbconvert_exporter": "python",
   "pygments_lexer": "ipython3",
   "version": "3.7.3"
  }
 },
 "nbformat": 4,
 "nbformat_minor": 2
}
